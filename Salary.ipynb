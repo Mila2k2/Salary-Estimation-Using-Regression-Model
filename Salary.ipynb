{
 "cells": [
  {
   "cell_type": "code",
   "execution_count": 13,
   "id": "4d2a5ee7",
   "metadata": {},
   "outputs": [
    {
     "data": {
      "text/html": [
       "<div>\n",
       "<style scoped>\n",
       "    .dataframe tbody tr th:only-of-type {\n",
       "        vertical-align: middle;\n",
       "    }\n",
       "\n",
       "    .dataframe tbody tr th {\n",
       "        vertical-align: top;\n",
       "    }\n",
       "\n",
       "    .dataframe thead th {\n",
       "        text-align: right;\n",
       "    }\n",
       "</style>\n",
       "<table border=\"1\" class=\"dataframe\">\n",
       "  <thead>\n",
       "    <tr style=\"text-align: right;\">\n",
       "      <th></th>\n",
       "      <th>Company Name</th>\n",
       "      <th>Job Title</th>\n",
       "      <th>Salaries Reported</th>\n",
       "      <th>Location</th>\n",
       "      <th>Salary</th>\n",
       "    </tr>\n",
       "  </thead>\n",
       "  <tbody>\n",
       "    <tr>\n",
       "      <th>0</th>\n",
       "      <td>Mu Sigma</td>\n",
       "      <td>Data Scientist</td>\n",
       "      <td>105.0</td>\n",
       "      <td>Bangalore</td>\n",
       "      <td>₹6,48,573/yr</td>\n",
       "    </tr>\n",
       "    <tr>\n",
       "      <th>1</th>\n",
       "      <td>IBM</td>\n",
       "      <td>Data Scientist</td>\n",
       "      <td>95.0</td>\n",
       "      <td>Bangalore</td>\n",
       "      <td>₹11,91,950/yr</td>\n",
       "    </tr>\n",
       "    <tr>\n",
       "      <th>2</th>\n",
       "      <td>Tata Consultancy Services</td>\n",
       "      <td>Data Scientist</td>\n",
       "      <td>66.0</td>\n",
       "      <td>Bangalore</td>\n",
       "      <td>₹8,36,874/yr</td>\n",
       "    </tr>\n",
       "    <tr>\n",
       "      <th>3</th>\n",
       "      <td>Impact Analytics</td>\n",
       "      <td>Data Scientist</td>\n",
       "      <td>40.0</td>\n",
       "      <td>Bangalore</td>\n",
       "      <td>₹6,69,578/yr</td>\n",
       "    </tr>\n",
       "    <tr>\n",
       "      <th>4</th>\n",
       "      <td>Accenture</td>\n",
       "      <td>Data Scientist</td>\n",
       "      <td>32.0</td>\n",
       "      <td>Bangalore</td>\n",
       "      <td>₹9,44,110/yr</td>\n",
       "    </tr>\n",
       "  </tbody>\n",
       "</table>\n",
       "</div>"
      ],
      "text/plain": [
       "                Company Name       Job Title  Salaries Reported   Location  \\\n",
       "0                   Mu Sigma  Data Scientist              105.0  Bangalore   \n",
       "1                        IBM  Data Scientist               95.0  Bangalore   \n",
       "2  Tata Consultancy Services  Data Scientist               66.0  Bangalore   \n",
       "3           Impact Analytics  Data Scientist               40.0  Bangalore   \n",
       "4                  Accenture  Data Scientist               32.0  Bangalore   \n",
       "\n",
       "          Salary  \n",
       "0   ₹6,48,573/yr  \n",
       "1  ₹11,91,950/yr  \n",
       "2   ₹8,36,874/yr  \n",
       "3   ₹6,69,578/yr  \n",
       "4   ₹9,44,110/yr  "
      ]
     },
     "execution_count": 13,
     "metadata": {},
     "output_type": "execute_result"
    }
   ],
   "source": [
    "import pandas as pd\n",
    "\n",
    "filename = \"Salary_Dataset.csv\"\n",
    "df_dirty = pd.read_csv(filename)\n",
    "\n",
    "df_dirty.head()"
   ]
  },
  {
   "cell_type": "code",
   "execution_count": 14,
   "id": "1cba03cf",
   "metadata": {},
   "outputs": [
    {
     "name": "stdout",
     "output_type": "stream",
     "text": [
      "<class 'pandas.core.frame.DataFrame'>\n",
      "RangeIndex: 4344 entries, 0 to 4343\n",
      "Data columns (total 5 columns):\n",
      " #   Column             Non-Null Count  Dtype  \n",
      "---  ------             --------------  -----  \n",
      " 0   Company Name       4341 non-null   object \n",
      " 1   Job Title          4344 non-null   object \n",
      " 2   Salaries Reported  4342 non-null   float64\n",
      " 3   Location           4344 non-null   object \n",
      " 4   Salary             4344 non-null   object \n",
      "dtypes: float64(1), object(4)\n",
      "memory usage: 169.8+ KB\n"
     ]
    }
   ],
   "source": [
    "df_dirty.info()"
   ]
  },
  {
   "cell_type": "code",
   "execution_count": 15,
   "id": "880ed9ba",
   "metadata": {},
   "outputs": [
    {
     "data": {
      "text/plain": [
       "Company Name         3\n",
       "Job Title            0\n",
       "Salaries Reported    2\n",
       "Location             0\n",
       "Salary               0\n",
       "dtype: int64"
      ]
     },
     "execution_count": 15,
     "metadata": {},
     "output_type": "execute_result"
    }
   ],
   "source": [
    "df_dirty.isnull().sum()"
   ]
  },
  {
   "cell_type": "code",
   "execution_count": 16,
   "id": "ff846ed2",
   "metadata": {},
   "outputs": [
    {
     "data": {
      "text/html": [
       "<div>\n",
       "<style scoped>\n",
       "    .dataframe tbody tr th:only-of-type {\n",
       "        vertical-align: middle;\n",
       "    }\n",
       "\n",
       "    .dataframe tbody tr th {\n",
       "        vertical-align: top;\n",
       "    }\n",
       "\n",
       "    .dataframe thead th {\n",
       "        text-align: right;\n",
       "    }\n",
       "</style>\n",
       "<table border=\"1\" class=\"dataframe\">\n",
       "  <thead>\n",
       "    <tr style=\"text-align: right;\">\n",
       "      <th></th>\n",
       "      <th>Company Name</th>\n",
       "      <th>Job Title</th>\n",
       "      <th>Salaries Reported</th>\n",
       "      <th>Location</th>\n",
       "      <th>Salary</th>\n",
       "    </tr>\n",
       "  </thead>\n",
       "  <tbody>\n",
       "    <tr>\n",
       "      <th>4027</th>\n",
       "      <td>First Student Data Scientist</td>\n",
       "      <td>Data Analyst</td>\n",
       "      <td>NaN</td>\n",
       "      <td>Pune</td>\n",
       "      <td>₹4,53,300/yr</td>\n",
       "    </tr>\n",
       "    <tr>\n",
       "      <th>4237</th>\n",
       "      <td>Amazon</td>\n",
       "      <td>Machine Learning Data Associate II</td>\n",
       "      <td>NaN</td>\n",
       "      <td>New Delhi</td>\n",
       "      <td>₹3,29,439/yr</td>\n",
       "    </tr>\n",
       "  </tbody>\n",
       "</table>\n",
       "</div>"
      ],
      "text/plain": [
       "                      Company Name                           Job Title  \\\n",
       "4027  First Student Data Scientist                        Data Analyst   \n",
       "4237                        Amazon  Machine Learning Data Associate II   \n",
       "\n",
       "      Salaries Reported   Location        Salary  \n",
       "4027                NaN       Pune  ₹4,53,300/yr  \n",
       "4237                NaN  New Delhi  ₹3,29,439/yr  "
      ]
     },
     "execution_count": 16,
     "metadata": {},
     "output_type": "execute_result"
    }
   ],
   "source": [
    "df_dirty[df_dirty[\"Salaries Reported\"].isnull()]"
   ]
  },
  {
   "cell_type": "code",
   "execution_count": null,
   "id": "b964f2bd",
   "metadata": {},
   "outputs": [
    {
     "data": {
      "text/html": [
       "<div>\n",
       "<style scoped>\n",
       "    .dataframe tbody tr th:only-of-type {\n",
       "        vertical-align: middle;\n",
       "    }\n",
       "\n",
       "    .dataframe tbody tr th {\n",
       "        vertical-align: top;\n",
       "    }\n",
       "\n",
       "    .dataframe thead th {\n",
       "        text-align: right;\n",
       "    }\n",
       "</style>\n",
       "<table border=\"1\" class=\"dataframe\">\n",
       "  <thead>\n",
       "    <tr style=\"text-align: right;\">\n",
       "      <th></th>\n",
       "      <th>Company Name</th>\n",
       "      <th>Job Title</th>\n",
       "      <th>Salaries Reported</th>\n",
       "      <th>Location</th>\n",
       "      <th>Salary</th>\n",
       "    </tr>\n",
       "  </thead>\n",
       "  <tbody>\n",
       "    <tr>\n",
       "      <th>2279</th>\n",
       "      <td>NaN</td>\n",
       "      <td>Data Analyst</td>\n",
       "      <td>1.0</td>\n",
       "      <td>Pune</td>\n",
       "      <td>₹23,500/mo</td>\n",
       "    </tr>\n",
       "    <tr>\n",
       "      <th>3227</th>\n",
       "      <td>NaN</td>\n",
       "      <td>Data Engineer</td>\n",
       "      <td>1.0</td>\n",
       "      <td>Pune</td>\n",
       "      <td>₹26,20,604/yr</td>\n",
       "    </tr>\n",
       "    <tr>\n",
       "      <th>4026</th>\n",
       "      <td>NaN</td>\n",
       "      <td>Machine Learning Engineer/Data Scientist</td>\n",
       "      <td>1.0</td>\n",
       "      <td>Pune</td>\n",
       "      <td>₹56,465/mo</td>\n",
       "    </tr>\n",
       "  </tbody>\n",
       "</table>\n",
       "</div>"
      ],
      "text/plain": [
       "     Company Name                                 Job Title  \\\n",
       "2279          NaN                              Data Analyst   \n",
       "3227          NaN                             Data Engineer   \n",
       "4026          NaN  Machine Learning Engineer/Data Scientist   \n",
       "\n",
       "      Salaries Reported Location         Salary  \n",
       "2279                1.0     Pune     ₹23,500/mo  \n",
       "3227                1.0     Pune  ₹26,20,604/yr  \n",
       "4026                1.0     Pune     ₹56,465/mo  "
      ]
     },
     "execution_count": 17,
     "metadata": {},
     "output_type": "execute_result"
    }
   ],
   "source": [
    "df_dirty[df_dirty[\"Company Name\"].isnull()]\n",
    "\n",
    "#novel_df = df;\n",
    "#novel_df['Cabin'] = novel_df['Cabin'].fillna('NOCABIN')"
   ]
  },
  {
   "cell_type": "code",
   "execution_count": 23,
   "id": "05f56da1",
   "metadata": {},
   "outputs": [
    {
     "name": "stdout",
     "output_type": "stream",
     "text": [
      "<class 'pandas.core.frame.DataFrame'>\n",
      "Index: 4339 entries, 0 to 4343\n",
      "Data columns (total 5 columns):\n",
      " #   Column             Non-Null Count  Dtype  \n",
      "---  ------             --------------  -----  \n",
      " 0   Company Name       4339 non-null   object \n",
      " 1   Job Title          4339 non-null   object \n",
      " 2   Salaries Reported  4339 non-null   float64\n",
      " 3   Location           4339 non-null   object \n",
      " 4   Salary             4339 non-null   object \n",
      "dtypes: float64(1), object(4)\n",
      "memory usage: 203.4+ KB\n"
     ]
    }
   ],
   "source": [
    "df = df_dirty.dropna(axis='rows')\n",
    "df = df[df[\"Salaries Reported\"].notnull()].copy()\n",
    "df = df[df[\"Company Name\"].notnull()].copy()\n",
    "\n",
    "df.info()"
   ]
  },
  {
   "cell_type": "code",
   "execution_count": 19,
   "id": "855edea0",
   "metadata": {},
   "outputs": [
    {
     "data": {
      "text/plain": [
       "Company Name         0\n",
       "Job Title            0\n",
       "Salaries Reported    0\n",
       "Location             0\n",
       "Salary               0\n",
       "dtype: int64"
      ]
     },
     "execution_count": 19,
     "metadata": {},
     "output_type": "execute_result"
    }
   ],
   "source": [
    "df.isnull().sum()"
   ]
  },
  {
   "cell_type": "code",
   "execution_count": null,
   "id": "fad66f6e",
   "metadata": {},
   "outputs": [
    {
     "name": "stdout",
     "output_type": "stream",
     "text": [
      "                Company Name       Job Title  Salaries Reported   Location  \\\n",
      "0                   Mu Sigma  Data Scientist              105.0  Bangalore   \n",
      "1                        IBM  Data Scientist               95.0  Bangalore   \n",
      "2  Tata Consultancy Services  Data Scientist               66.0  Bangalore   \n",
      "3           Impact Analytics  Data Scientist               40.0  Bangalore   \n",
      "4                  Accenture  Data Scientist               32.0  Bangalore   \n",
      "\n",
      "          Salary  Salary_clean  Salary_usd  \n",
      "0   ₹6,48,573/yr      648573.0     7814.13  \n",
      "1  ₹11,91,950/yr     1191950.0    14360.84  \n",
      "2   ₹8,36,874/yr      836874.0    10082.82  \n",
      "3   ₹6,69,578/yr      669578.0     8067.20  \n",
      "4   ₹9,44,110/yr      944110.0    11374.82  \n"
     ]
    }
   ],
   "source": [
    "import re\n",
    "\n",
    "# Taxa de câmbio (1 USD ≈ 83 INR)\n",
    "TAXA_CAMBIO = 83.0\n",
    "\n",
    "# Função para converter valores de salário para formato anual e numérico\n",
    "def converter_para_anual(salario_str):\n",
    "    if pd.isnull(salario_str):\n",
    "        return None\n",
    "\n",
    "    # Remove símbolo de moeda e vírgulas\n",
    "    salario_str = salario_str.replace('₹', '').replace(',', '')\n",
    "\n",
    "    # Extrai valor numérico e unidade (/yr, /mo, /hr)\n",
    "    match = re.match(r\"(\\d+)(?:/(\\w+))?\", salario_str)\n",
    "\n",
    "    if not match:\n",
    "        return None\n",
    "\n",
    "    valor = int(match.group(1))\n",
    "    unidade = match.group(2)\n",
    "\n",
    "    if unidade == 'mo':\n",
    "        return valor * 12\n",
    "    elif unidade == 'hr':\n",
    "        return valor * 2080\n",
    "    else:  # Assume anual ou unidade ausente\n",
    "        return valor\n",
    "\n",
    "# Converter para salário anual em INR\n",
    "df[\"Salary_clean\"] = df[\"Salary\"].apply(converter_para_anual)\n",
    "\n",
    "# Converter para dólares\n",
    "df[\"Salary_usd\"] = df[\"Salary_clean\"] / TAXA_CAMBIO\n",
    "df[\"Salary_usd\"] = df[\"Salary_usd\"].round(2)\n",
    "\n",
    "print(df.head())"
   ]
  }
 ],
 "metadata": {
  "kernelspec": {
   "display_name": "Python 3",
   "language": "python",
   "name": "python3"
  },
  "language_info": {
   "codemirror_mode": {
    "name": "ipython",
    "version": 3
   },
   "file_extension": ".py",
   "mimetype": "text/x-python",
   "name": "python",
   "nbconvert_exporter": "python",
   "pygments_lexer": "ipython3",
   "version": "3.10.11"
  }
 },
 "nbformat": 4,
 "nbformat_minor": 5
}
